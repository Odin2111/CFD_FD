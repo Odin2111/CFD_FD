{
 "cells": [
  {
   "cell_type": "code",
   "execution_count": 1,
   "id": "3e80dca8-5d85-46ce-922f-d7e544b4677e",
   "metadata": {},
   "outputs": [
    {
     "name": "stdout",
     "output_type": "stream",
     "text": [
      "Node 0 at r= 0.5 m: T= 373.15 K\n",
      "Node 1 at r= 0.625 m: T= 355.41 K\n",
      "Node 2 at r= 0.75 m: T= 340.91 K\n",
      "Node 3 at r= 0.875 m: T= 328.65 K\n",
      "Node 4 at r= 1.0 m: T= 318.03 K\n"
     ]
    }
   ],
   "source": [
    "import numpy as np\n",
    "\n",
    "# Known parameters\n",
    "RA = 0.5         # Inner radius (m)\n",
    "RB = 1.0         # Outer radius (m)\n",
    "lambda_ = 25.0   # Thermal conductivity (W/m·K)\n",
    "h_air = 100.0    # Heat transfer coefficient (W/m^2·K)\n",
    "T_air = 298.15   # Ambient temperature (K)\n",
    "T0 = 373.15      # Temperature at r = RA (K)\n",
    "N = 5            # Number of nodes\n",
    "L = 1.0          # Axial length (m) for the cylinder\n",
    "\n",
    "# Radial grid (node-centered): i=0 at r=RA, i=N-1 at r=RB\n",
    "r = np.linspace(RA, RB, N)\n",
    "\n",
    "# System matrix A and right-hand side b\n",
    "A = np.zeros((N, N))\n",
    "b = np.zeros(N)\n",
    "\n",
    "# Helper function for the radial conduction coefficient \n",
    "def radial_conduct_coeff(r_i, r_ip1, k=lambda_, length=L):\n",
    "    return 2.0 * np.pi * k * length / np.log(r_ip1 / r_i)\n",
    "\n",
    "# 1) Dirichlet boundary at i=0: T(0) = T0\n",
    "#    We force T[0] = T0 by setting A[0,0] = 1, b[0] = T0\n",
    "A[0, 0] = 1.0\n",
    "b[0] = T0\n",
    "\n",
    "# 2) Convection boundary at i=N-1: \n",
    "#    conduction from node (N-2) -> (N-1) \n",
    " \n",
    "k_edge = radial_conduct_coeff(r[N-2], r[N-1])\n",
    "A[N-1, N-1] = +k_edge + h_air * 2.0 * np.pi * r[N-1] * L\n",
    "A[N-1, N-2] = -k_edge\n",
    "b[N-1] = h_air * 2.0 * np.pi * r[N-1] * L * T_air\n",
    "\n",
    "# 3) Interior nodes (i=1,...,N-2): conduction balance\n",
    " \n",
    "for i in range(1, N-1):\n",
    "    k_left = radial_conduct_coeff(r[i-1], r[i])\n",
    "    k_right = radial_conduct_coeff(r[i], r[i+1])\n",
    "    A[i, i-1] = -k_left\n",
    "    A[i, i] = k_left + k_right\n",
    "    A[i, i+1] = -k_right\n",
    "\n",
    "# Solve the linear system A*T = b\n",
    "T_sol = np.linalg.solve(A, b)\n",
    "\n",
    "# Print final temperatures\n",
    "for i in range(N):\n",
    "    print('Node', i, 'at r=', r[i], 'm: T=', \n",
    "\t\tf'{T_sol[i]:.2f}', 'K')\n"
   ]
  },
  {
   "cell_type": "code",
   "execution_count": null,
   "id": "5d9db6d8-9a9c-4907-bb4a-e22ddcee42c2",
   "metadata": {},
   "outputs": [],
   "source": []
  }
 ],
 "metadata": {
  "kernelspec": {
   "display_name": "Python 3 (ipykernel)",
   "language": "python",
   "name": "python3"
  },
  "language_info": {
   "codemirror_mode": {
    "name": "ipython",
    "version": 3
   },
   "file_extension": ".py",
   "mimetype": "text/x-python",
   "name": "python",
   "nbconvert_exporter": "python",
   "pygments_lexer": "ipython3",
   "version": "3.10.15"
  }
 },
 "nbformat": 4,
 "nbformat_minor": 5
}
