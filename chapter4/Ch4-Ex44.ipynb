{
 "cells": [
  {
   "cell_type": "code",
   "execution_count": null,
   "id": "c8dedfde-42e0-4c0d-8612-a79846d2153a",
   "metadata": {},
   "outputs": [],
   "source": []
  }
 ],
 "metadata": {
  "kernelspec": {
   "display_name": "",
   "name": ""
  },
  "language_info": {
   "name": ""
  }
 },
 "nbformat": 4,
 "nbformat_minor": 5
}
