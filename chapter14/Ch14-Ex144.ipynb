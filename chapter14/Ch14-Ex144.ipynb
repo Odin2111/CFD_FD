{
 "cells": [
  {
   "cell_type": "code",
   "execution_count": 1,
   "id": "25b5f069-45a0-465e-b195-2c3c5ae48b77",
   "metadata": {},
   "outputs": [
    {
     "name": "stdout",
     "output_type": "stream",
     "text": [
      "SIP solution x: [1. 1. 1. 1.]\n"
     ]
    }
   ],
   "source": [
    "import numpy as np\n",
    "\n",
    "# Matrix A and right-hand side vector b\n",
    "A = np.array([\n",
    "    [4, -1, -1, 0],\n",
    "    [-1, 4, 0, -1],\n",
    "    [-1, 0, 4, -1],\n",
    "    [0, -1, -1, 4]\n",
    "], dtype=float)\n",
    "\n",
    "b = np.array([2, 2, 2, 2], dtype=float)\n",
    "\n",
    "# Initial guess\n",
    "x = np.zeros_like(b)\n",
    "\n",
    "# Incomplete LU factorization with no fill-in (ILU(0))\n",
    "def incomplete_LU(A):\n",
    "    n = A.shape[0]\n",
    "    L = np.eye(n)\n",
    "    U = np.zeros_like(A)\n",
    "    for i in range(n):\n",
    "        for j in range(i, n):\n",
    "            U[i, j] = A[i, j] - np.dot(L[i, :i], U[:i, j])\n",
    "        for j in range(i + 1, n):\n",
    "            if A[j, i] != 0:\n",
    "                denom = U[i, i]\n",
    "                if denom != 0:\n",
    "                  L[j, i] = (A[j, i] - np.dot(L[j, :i], U[:i, i])) / denom\n",
    "    return L, U\n",
    "\n",
    "# Forward solve Ly = r\n",
    "def forward_substitution(L, r):\n",
    "    n = L.shape[0]\n",
    "    y = np.zeros_like(r)\n",
    "    for i in range(n):\n",
    "        y[i] = (r[i] - np.dot(L[i, :i], y[:i])) / L[i, i]\n",
    "    return y\n",
    "\n",
    "# Backward solve Ud = y\n",
    "def backward_substitution(U, y):\n",
    "    n = U.shape[0]\n",
    "    d = np.zeros_like(y)\n",
    "    for i in range(n - 1, -1, -1):\n",
    "        d[i] = (y[i] - np.dot(U[i, i + 1:], d[i + 1:])) / U[i, i]\n",
    "    return d\n",
    "\n",
    "# SIP solver loop\n",
    "L, U = incomplete_LU(A)\n",
    "max_iter = 10\n",
    "tol = 1e-10\n",
    "\n",
    "for k in range(max_iter):\n",
    "    r = b - A @ x\n",
    "    if np.linalg.norm(r, ord=np.inf) < tol:\n",
    "        break\n",
    "    y = forward_substitution(L, r)\n",
    "    d = backward_substitution(U, y)\n",
    "    x = x + d\n",
    "\n",
    "print(\"SIP solution x:\", x)\n"
   ]
  },
  {
   "cell_type": "code",
   "execution_count": null,
   "id": "3e3754ec-dca6-4406-8c0f-65c881b56786",
   "metadata": {},
   "outputs": [],
   "source": []
  }
 ],
 "metadata": {
  "kernelspec": {
   "display_name": "Python 3 (ipykernel)",
   "language": "python",
   "name": "python3"
  },
  "language_info": {
   "codemirror_mode": {
    "name": "ipython",
    "version": 3
   },
   "file_extension": ".py",
   "mimetype": "text/x-python",
   "name": "python",
   "nbconvert_exporter": "python",
   "pygments_lexer": "ipython3",
   "version": "3.10.15"
  }
 },
 "nbformat": 4,
 "nbformat_minor": 5
}
